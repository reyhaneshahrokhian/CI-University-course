{
  "cells": [
    {
      "cell_type": "markdown",
      "metadata": {
        "id": "mqg4KSj_8Nz1"
      },
      "source": [
        "# In this notebook, we run an MLP model on dataset hoda and examine the results in terms of underfitting, fitting and overfitting."
      ]
    },
    {
      "cell_type": "markdown",
      "metadata": {
        "id": "IVk_5eoO76sj"
      },
      "source": [
        "## Download dataset"
      ]
    },
    {
      "cell_type": "code",
      "execution_count": 1,
      "metadata": {
        "id": "TjoQGt01Ujx1",
        "colab": {
          "base_uri": "https://localhost:8080/"
        },
        "outputId": "24b47383-facf-48f9-913d-e3a597c345c4"
      },
      "outputs": [
        {
          "output_type": "stream",
          "name": "stdout",
          "text": [
            "Downloading...\n",
            "From: https://drive.google.com/uc?id=1QJrQsEYOfPBn1LoIeYMZ2HFBRC0AY-6F\n",
            "To: /content/dataset.py\n",
            "100% 909/909 [00:00<00:00, 4.35MB/s]\n",
            "Downloading...\n",
            "From: https://drive.google.com/uc?id=1zStcaVl_34RrYIfVObuM4xzB6s8xwvBi\n",
            "To: /content/Data_hoda_full.mat\n",
            "100% 3.99M/3.99M [00:00<00:00, 293MB/s]\n"
          ]
        }
      ],
      "source": [
        "!gdown --fuzzy https://drive.google.com/file/d/1QJrQsEYOfPBn1LoIeYMZ2HFBRC0AY-6F/view?usp=sharing\n",
        "!gdown --fuzzy https://drive.google.com/file/d/1zStcaVl_34RrYIfVObuM4xzB6s8xwvBi/view?usp=sharing"
      ]
    },
    {
      "cell_type": "markdown",
      "metadata": {
        "id": "ruebTHNSBqRD"
      },
      "source": [
        "## Importing libraries"
      ]
    },
    {
      "cell_type": "code",
      "execution_count": 2,
      "metadata": {
        "id": "WhoXKRptiRDe"
      },
      "outputs": [],
      "source": [
        "import keras\n",
        "import numpy as np\n",
        "import matplotlib.pyplot as plt\n",
        "\n",
        "from keras.models import Sequential\n",
        "from keras.layers import Dense,  Activation\n",
        "from dataset import load_hoda"
      ]
    },
    {
      "cell_type": "markdown",
      "metadata": {
        "id": "ku75DKlg_f9y"
      },
      "source": [
        "# Load dataset"
      ]
    },
    {
      "cell_type": "code",
      "execution_count": 3,
      "metadata": {
        "id": "4D7VhBCKiVWl"
      },
      "outputs": [],
      "source": [
        "x_train_original, y_train_original, x_test_original, y_test_original = load_hoda()"
      ]
    },
    {
      "cell_type": "markdown",
      "metadata": {
        "id": "Wruhn4AmB5zC"
      },
      "source": [
        "### Converting x_train and x_test to ndarray array format and converting y_train and y_test to one-hot-encoding:\n",
        "####First, we have defined a simple function that prints the dimensions, data type and information of the loaded dataset. We will print this information before and after data preprocessing to notice the changes!"
      ]
    },
    {
      "cell_type": "code",
      "execution_count": 4,
      "metadata": {
        "id": "nbSZTm93iVb9"
      },
      "outputs": [],
      "source": [
        "# Preprocess input data for Keras.\n",
        "x_train = np.array(x_train_original)\n",
        "y_train = keras.utils.to_categorical(y_train_original, num_classes=10)\n",
        "x_test = np.array(x_test_original)\n",
        "y_test = keras.utils.to_categorical(y_test_original, num_classes=10)"
      ]
    },
    {
      "cell_type": "code",
      "execution_count": 5,
      "metadata": {
        "id": "u5Gvz63iiVZV"
      },
      "outputs": [],
      "source": [
        "def print_data_info(x_train, y_train, x_test, y_test):\n",
        "    #Check data Type\n",
        "    print (\"\\ttype(x_train): {}\".format(type(x_train)))\n",
        "    print (\"\\ttype(y_train): {}\".format(type(y_train)))\n",
        "\n",
        "    #check data Shape\n",
        "    print (\"\\tx_train.shape: {}\".format(np.shape(x_train)))\n",
        "    print (\"\\ty_train.shape: {}\".format(np.shape(y_train)))\n",
        "    print (\"\\tx_test.shape: {}\".format(np.shape(x_test)))\n",
        "    print (\"\\ty_test.shape: {}\".format(np.shape(y_test)))\n",
        "\n",
        "    #sample data\n",
        "    print (\"\\ty_train[0]: {}\".format(y_train[0]))"
      ]
    },
    {
      "cell_type": "code",
      "execution_count": 6,
      "metadata": {
        "id": "0C5eJsmeiVe2",
        "colab": {
          "base_uri": "https://localhost:8080/"
        },
        "outputId": "9084ec62-6c06-48e0-f177-e595d0754929"
      },
      "outputs": [
        {
          "output_type": "stream",
          "name": "stdout",
          "text": [
            "Before Preprocessing:\n",
            "\ttype(x_train): <class 'numpy.ndarray'>\n",
            "\ttype(y_train): <class 'numpy.ndarray'>\n",
            "\tx_train.shape: (1000, 25)\n",
            "\ty_train.shape: (1000,)\n",
            "\tx_test.shape: (200, 25)\n",
            "\ty_test.shape: (200,)\n",
            "\ty_train[0]: 6\n",
            "After Preprocessing:\n",
            "\ttype(x_train): <class 'numpy.ndarray'>\n",
            "\ttype(y_train): <class 'numpy.ndarray'>\n",
            "\tx_train.shape: (1000, 25)\n",
            "\ty_train.shape: (1000, 10)\n",
            "\tx_test.shape: (200, 25)\n",
            "\ty_test.shape: (200, 10)\n",
            "\ty_train[0]: [0. 0. 0. 0. 0. 0. 1. 0. 0. 0.]\n"
          ]
        }
      ],
      "source": [
        "print(\"Before Preprocessing:\")\n",
        "print_data_info(x_train_original, y_train_original, x_test_original, y_test_original)\n",
        "print(\"After Preprocessing:\")\n",
        "print_data_info(x_train, y_train, x_test, y_test)"
      ]
    },
    {
      "cell_type": "code",
      "execution_count": 7,
      "metadata": {
        "id": "ignnQ8cqidv_"
      },
      "outputs": [],
      "source": [
        "x_train = x_train.astype('float32')\n",
        "x_test = x_test.astype('float32')\n",
        "x_train /= 255\n",
        "x_test /= 255"
      ]
    },
    {
      "cell_type": "code",
      "execution_count": 8,
      "metadata": {
        "id": "cEQisVlqidyt"
      },
      "outputs": [],
      "source": [
        "# In this Create the model, input dim=25 and output dim = 10\n",
        "\n",
        "##################################\n",
        "# you code here\n",
        "##################################\n",
        "model = Sequential([\n",
        "    Dense(25),\n",
        "    Dense(16, activation='relu'),\n",
        "    Dense(10, activation='softmax')\n",
        "])\n",
        "model.build(input_shape=(None, 25))"
      ]
    },
    {
      "cell_type": "code",
      "execution_count": 9,
      "metadata": {
        "id": "gk4rIwjbid3W",
        "colab": {
          "base_uri": "https://localhost:8080/"
        },
        "outputId": "4a26ce62-a60c-4e1b-e9c5-aa9c09b7c946"
      },
      "outputs": [
        {
          "output_type": "stream",
          "name": "stdout",
          "text": [
            "Model: \"sequential\"\n",
            "_________________________________________________________________\n",
            " Layer (type)                Output Shape              Param #   \n",
            "=================================================================\n",
            " dense (Dense)               (None, 25)                650       \n",
            "                                                                 \n",
            " dense_1 (Dense)             (None, 16)                416       \n",
            "                                                                 \n",
            " dense_2 (Dense)             (None, 10)                170       \n",
            "                                                                 \n",
            "=================================================================\n",
            "Total params: 1236 (4.83 KB)\n",
            "Trainable params: 1236 (4.83 KB)\n",
            "Non-trainable params: 0 (0.00 Byte)\n",
            "_________________________________________________________________\n"
          ]
        }
      ],
      "source": [
        "model.summary()"
      ]
    },
    {
      "cell_type": "markdown",
      "metadata": {
        "id": "XVBSerPdCxnL"
      },
      "source": [
        "## Compile model"
      ]
    },
    {
      "cell_type": "code",
      "execution_count": 10,
      "metadata": {
        "id": "ZJVfanv2id52"
      },
      "outputs": [],
      "source": [
        "# In this cell compile mode, set loss function and optimizer and get metrics accuracy\n",
        "\n",
        "##################################\n",
        "# you code here\n",
        "model.compile(loss='categorical_crossentropy', optimizer='adam', metrics=['accuracy'])\n",
        "##################################"
      ]
    },
    {
      "cell_type": "markdown",
      "metadata": {
        "id": "Uz92ZcWOJFFU"
      },
      "source": [
        "## Fit model"
      ]
    },
    {
      "cell_type": "code",
      "execution_count": 11,
      "metadata": {
        "id": "ZaKtROcxinbV",
        "colab": {
          "base_uri": "https://localhost:8080/"
        },
        "outputId": "0eb6c349-b532-496d-e4cc-0f2cbf5806b7"
      },
      "outputs": [
        {
          "output_type": "stream",
          "name": "stdout",
          "text": [
            "Epoch 1/100\n",
            "16/16 [==============================] - 5s 40ms/step - loss: 2.3254 - accuracy: 0.0730 - val_loss: 2.2105 - val_accuracy: 0.1300\n",
            "Epoch 2/100\n",
            "16/16 [==============================] - 0s 15ms/step - loss: 2.1266 - accuracy: 0.1930 - val_loss: 2.0738 - val_accuracy: 0.2300\n",
            "Epoch 3/100\n",
            "16/16 [==============================] - 0s 13ms/step - loss: 1.9841 - accuracy: 0.2590 - val_loss: 1.9455 - val_accuracy: 0.2800\n",
            "Epoch 4/100\n",
            "16/16 [==============================] - 0s 12ms/step - loss: 1.8546 - accuracy: 0.3180 - val_loss: 1.8304 - val_accuracy: 0.3250\n",
            "Epoch 5/100\n",
            "16/16 [==============================] - 0s 10ms/step - loss: 1.7310 - accuracy: 0.4120 - val_loss: 1.7152 - val_accuracy: 0.4400\n",
            "Epoch 6/100\n",
            "16/16 [==============================] - 0s 16ms/step - loss: 1.6089 - accuracy: 0.5020 - val_loss: 1.6041 - val_accuracy: 0.5250\n",
            "Epoch 7/100\n",
            "16/16 [==============================] - 0s 12ms/step - loss: 1.4904 - accuracy: 0.5570 - val_loss: 1.4912 - val_accuracy: 0.5500\n",
            "Epoch 8/100\n",
            "16/16 [==============================] - 0s 11ms/step - loss: 1.3759 - accuracy: 0.6080 - val_loss: 1.3809 - val_accuracy: 0.6000\n",
            "Epoch 9/100\n",
            "16/16 [==============================] - 0s 11ms/step - loss: 1.2677 - accuracy: 0.6620 - val_loss: 1.2723 - val_accuracy: 0.6750\n",
            "Epoch 10/100\n",
            "16/16 [==============================] - 0s 15ms/step - loss: 1.1607 - accuracy: 0.7070 - val_loss: 1.1618 - val_accuracy: 0.7450\n",
            "Epoch 11/100\n",
            "16/16 [==============================] - 0s 10ms/step - loss: 1.0600 - accuracy: 0.7400 - val_loss: 1.0582 - val_accuracy: 0.7800\n",
            "Epoch 12/100\n",
            "16/16 [==============================] - 0s 15ms/step - loss: 0.9648 - accuracy: 0.7570 - val_loss: 0.9596 - val_accuracy: 0.8150\n",
            "Epoch 13/100\n",
            "16/16 [==============================] - 0s 15ms/step - loss: 0.8796 - accuracy: 0.7690 - val_loss: 0.8726 - val_accuracy: 0.8350\n",
            "Epoch 14/100\n",
            "16/16 [==============================] - 0s 18ms/step - loss: 0.8066 - accuracy: 0.7880 - val_loss: 0.7975 - val_accuracy: 0.8250\n",
            "Epoch 15/100\n",
            "16/16 [==============================] - 0s 25ms/step - loss: 0.7419 - accuracy: 0.8060 - val_loss: 0.7340 - val_accuracy: 0.8350\n",
            "Epoch 16/100\n",
            "16/16 [==============================] - 0s 24ms/step - loss: 0.6909 - accuracy: 0.8140 - val_loss: 0.6869 - val_accuracy: 0.8450\n",
            "Epoch 17/100\n",
            "16/16 [==============================] - 0s 24ms/step - loss: 0.6453 - accuracy: 0.8180 - val_loss: 0.6416 - val_accuracy: 0.8450\n",
            "Epoch 18/100\n",
            "16/16 [==============================] - 0s 27ms/step - loss: 0.6056 - accuracy: 0.8220 - val_loss: 0.6066 - val_accuracy: 0.8550\n",
            "Epoch 19/100\n",
            "16/16 [==============================] - 0s 20ms/step - loss: 0.5731 - accuracy: 0.8340 - val_loss: 0.5767 - val_accuracy: 0.8700\n",
            "Epoch 20/100\n",
            "16/16 [==============================] - 0s 16ms/step - loss: 0.5461 - accuracy: 0.8390 - val_loss: 0.5453 - val_accuracy: 0.8650\n",
            "Epoch 21/100\n",
            "16/16 [==============================] - 0s 18ms/step - loss: 0.5219 - accuracy: 0.8450 - val_loss: 0.5277 - val_accuracy: 0.8750\n",
            "Epoch 22/100\n",
            "16/16 [==============================] - 0s 14ms/step - loss: 0.4996 - accuracy: 0.8550 - val_loss: 0.5064 - val_accuracy: 0.8700\n",
            "Epoch 23/100\n",
            "16/16 [==============================] - 0s 10ms/step - loss: 0.4802 - accuracy: 0.8620 - val_loss: 0.4862 - val_accuracy: 0.8700\n",
            "Epoch 24/100\n",
            "16/16 [==============================] - 0s 10ms/step - loss: 0.4623 - accuracy: 0.8550 - val_loss: 0.4686 - val_accuracy: 0.8750\n",
            "Epoch 25/100\n",
            "16/16 [==============================] - 0s 9ms/step - loss: 0.4484 - accuracy: 0.8710 - val_loss: 0.4567 - val_accuracy: 0.8900\n",
            "Epoch 26/100\n",
            "16/16 [==============================] - 0s 11ms/step - loss: 0.4322 - accuracy: 0.8780 - val_loss: 0.4407 - val_accuracy: 0.8750\n",
            "Epoch 27/100\n",
            "16/16 [==============================] - 0s 11ms/step - loss: 0.4204 - accuracy: 0.8720 - val_loss: 0.4319 - val_accuracy: 0.8750\n",
            "Epoch 28/100\n",
            "16/16 [==============================] - 0s 16ms/step - loss: 0.4078 - accuracy: 0.8780 - val_loss: 0.4200 - val_accuracy: 0.8900\n",
            "Epoch 29/100\n",
            "16/16 [==============================] - 0s 14ms/step - loss: 0.3973 - accuracy: 0.8860 - val_loss: 0.4093 - val_accuracy: 0.8950\n",
            "Epoch 30/100\n",
            "16/16 [==============================] - 0s 16ms/step - loss: 0.3870 - accuracy: 0.8880 - val_loss: 0.4015 - val_accuracy: 0.9050\n",
            "Epoch 31/100\n",
            "16/16 [==============================] - 0s 19ms/step - loss: 0.3757 - accuracy: 0.8910 - val_loss: 0.3919 - val_accuracy: 0.9000\n",
            "Epoch 32/100\n",
            "16/16 [==============================] - 0s 11ms/step - loss: 0.3675 - accuracy: 0.8930 - val_loss: 0.3841 - val_accuracy: 0.9100\n",
            "Epoch 33/100\n",
            "16/16 [==============================] - 0s 6ms/step - loss: 0.3601 - accuracy: 0.8900 - val_loss: 0.3777 - val_accuracy: 0.9050\n",
            "Epoch 34/100\n",
            "16/16 [==============================] - 0s 6ms/step - loss: 0.3512 - accuracy: 0.8970 - val_loss: 0.3705 - val_accuracy: 0.9000\n",
            "Epoch 35/100\n",
            "16/16 [==============================] - 0s 5ms/step - loss: 0.3450 - accuracy: 0.8940 - val_loss: 0.3642 - val_accuracy: 0.9000\n",
            "Epoch 36/100\n",
            "16/16 [==============================] - 0s 6ms/step - loss: 0.3367 - accuracy: 0.8980 - val_loss: 0.3573 - val_accuracy: 0.9000\n",
            "Epoch 37/100\n",
            "16/16 [==============================] - 0s 6ms/step - loss: 0.3314 - accuracy: 0.8990 - val_loss: 0.3543 - val_accuracy: 0.9000\n",
            "Epoch 38/100\n",
            "16/16 [==============================] - 0s 6ms/step - loss: 0.3251 - accuracy: 0.8980 - val_loss: 0.3452 - val_accuracy: 0.9000\n",
            "Epoch 39/100\n",
            "16/16 [==============================] - 0s 6ms/step - loss: 0.3189 - accuracy: 0.9060 - val_loss: 0.3437 - val_accuracy: 0.9000\n",
            "Epoch 40/100\n",
            "16/16 [==============================] - 0s 7ms/step - loss: 0.3139 - accuracy: 0.8940 - val_loss: 0.3393 - val_accuracy: 0.9000\n",
            "Epoch 41/100\n",
            "16/16 [==============================] - 0s 6ms/step - loss: 0.3071 - accuracy: 0.9020 - val_loss: 0.3353 - val_accuracy: 0.9000\n",
            "Epoch 42/100\n",
            "16/16 [==============================] - 0s 6ms/step - loss: 0.3003 - accuracy: 0.9050 - val_loss: 0.3284 - val_accuracy: 0.9000\n",
            "Epoch 43/100\n",
            "16/16 [==============================] - 0s 7ms/step - loss: 0.2950 - accuracy: 0.9100 - val_loss: 0.3299 - val_accuracy: 0.9000\n",
            "Epoch 44/100\n",
            "16/16 [==============================] - 0s 7ms/step - loss: 0.2913 - accuracy: 0.9040 - val_loss: 0.3224 - val_accuracy: 0.9000\n",
            "Epoch 45/100\n",
            "16/16 [==============================] - 0s 11ms/step - loss: 0.2857 - accuracy: 0.9120 - val_loss: 0.3211 - val_accuracy: 0.9050\n",
            "Epoch 46/100\n",
            "16/16 [==============================] - 0s 8ms/step - loss: 0.2807 - accuracy: 0.9170 - val_loss: 0.3181 - val_accuracy: 0.9000\n",
            "Epoch 47/100\n",
            "16/16 [==============================] - 0s 8ms/step - loss: 0.2792 - accuracy: 0.9140 - val_loss: 0.3177 - val_accuracy: 0.9100\n",
            "Epoch 48/100\n",
            "16/16 [==============================] - 0s 8ms/step - loss: 0.2736 - accuracy: 0.9160 - val_loss: 0.3112 - val_accuracy: 0.9100\n",
            "Epoch 49/100\n",
            "16/16 [==============================] - 0s 7ms/step - loss: 0.2702 - accuracy: 0.9170 - val_loss: 0.3090 - val_accuracy: 0.9000\n",
            "Epoch 50/100\n",
            "16/16 [==============================] - 0s 6ms/step - loss: 0.2654 - accuracy: 0.9210 - val_loss: 0.3090 - val_accuracy: 0.9100\n",
            "Epoch 51/100\n",
            "16/16 [==============================] - 0s 6ms/step - loss: 0.2623 - accuracy: 0.9210 - val_loss: 0.3052 - val_accuracy: 0.9050\n",
            "Epoch 52/100\n",
            "16/16 [==============================] - 0s 5ms/step - loss: 0.2579 - accuracy: 0.9210 - val_loss: 0.3058 - val_accuracy: 0.9050\n",
            "Epoch 53/100\n",
            "16/16 [==============================] - 0s 6ms/step - loss: 0.2547 - accuracy: 0.9210 - val_loss: 0.2984 - val_accuracy: 0.9050\n",
            "Epoch 54/100\n",
            "16/16 [==============================] - 0s 6ms/step - loss: 0.2513 - accuracy: 0.9220 - val_loss: 0.2982 - val_accuracy: 0.9050\n",
            "Epoch 55/100\n",
            "16/16 [==============================] - 0s 6ms/step - loss: 0.2476 - accuracy: 0.9220 - val_loss: 0.3013 - val_accuracy: 0.9150\n",
            "Epoch 56/100\n",
            "16/16 [==============================] - 0s 6ms/step - loss: 0.2455 - accuracy: 0.9230 - val_loss: 0.2988 - val_accuracy: 0.9150\n",
            "Epoch 57/100\n",
            "16/16 [==============================] - 0s 6ms/step - loss: 0.2418 - accuracy: 0.9230 - val_loss: 0.2927 - val_accuracy: 0.9150\n",
            "Epoch 58/100\n",
            "16/16 [==============================] - 0s 6ms/step - loss: 0.2405 - accuracy: 0.9230 - val_loss: 0.2981 - val_accuracy: 0.9150\n",
            "Epoch 59/100\n",
            "16/16 [==============================] - 0s 7ms/step - loss: 0.2378 - accuracy: 0.9250 - val_loss: 0.2954 - val_accuracy: 0.9150\n",
            "Epoch 60/100\n",
            "16/16 [==============================] - 0s 6ms/step - loss: 0.2342 - accuracy: 0.9260 - val_loss: 0.2920 - val_accuracy: 0.9150\n",
            "Epoch 61/100\n",
            "16/16 [==============================] - 0s 6ms/step - loss: 0.2320 - accuracy: 0.9240 - val_loss: 0.2923 - val_accuracy: 0.9150\n",
            "Epoch 62/100\n",
            "16/16 [==============================] - 0s 6ms/step - loss: 0.2277 - accuracy: 0.9250 - val_loss: 0.2914 - val_accuracy: 0.9150\n",
            "Epoch 63/100\n",
            "16/16 [==============================] - 0s 7ms/step - loss: 0.2278 - accuracy: 0.9300 - val_loss: 0.2899 - val_accuracy: 0.9150\n",
            "Epoch 64/100\n",
            "16/16 [==============================] - 0s 7ms/step - loss: 0.2246 - accuracy: 0.9290 - val_loss: 0.2916 - val_accuracy: 0.9150\n",
            "Epoch 65/100\n",
            "16/16 [==============================] - 0s 6ms/step - loss: 0.2217 - accuracy: 0.9260 - val_loss: 0.2916 - val_accuracy: 0.9150\n",
            "Epoch 66/100\n",
            "16/16 [==============================] - 0s 6ms/step - loss: 0.2201 - accuracy: 0.9350 - val_loss: 0.2916 - val_accuracy: 0.9150\n",
            "Epoch 67/100\n",
            "16/16 [==============================] - 0s 7ms/step - loss: 0.2183 - accuracy: 0.9320 - val_loss: 0.2899 - val_accuracy: 0.9150\n",
            "Epoch 68/100\n",
            "16/16 [==============================] - 0s 5ms/step - loss: 0.2161 - accuracy: 0.9310 - val_loss: 0.2914 - val_accuracy: 0.9200\n",
            "Epoch 69/100\n",
            "16/16 [==============================] - 0s 6ms/step - loss: 0.2142 - accuracy: 0.9340 - val_loss: 0.2922 - val_accuracy: 0.9150\n",
            "Epoch 70/100\n",
            "16/16 [==============================] - 0s 5ms/step - loss: 0.2110 - accuracy: 0.9350 - val_loss: 0.2920 - val_accuracy: 0.9150\n",
            "Epoch 71/100\n",
            "16/16 [==============================] - 0s 6ms/step - loss: 0.2105 - accuracy: 0.9350 - val_loss: 0.2891 - val_accuracy: 0.9100\n",
            "Epoch 72/100\n",
            "16/16 [==============================] - 0s 6ms/step - loss: 0.2084 - accuracy: 0.9320 - val_loss: 0.2911 - val_accuracy: 0.9200\n",
            "Epoch 73/100\n",
            "16/16 [==============================] - 0s 6ms/step - loss: 0.2060 - accuracy: 0.9380 - val_loss: 0.2910 - val_accuracy: 0.9200\n",
            "Epoch 74/100\n",
            "16/16 [==============================] - 0s 8ms/step - loss: 0.2054 - accuracy: 0.9370 - val_loss: 0.2953 - val_accuracy: 0.9200\n",
            "Epoch 75/100\n",
            "16/16 [==============================] - 0s 7ms/step - loss: 0.2048 - accuracy: 0.9330 - val_loss: 0.2880 - val_accuracy: 0.9250\n",
            "Epoch 76/100\n",
            "16/16 [==============================] - 0s 6ms/step - loss: 0.2014 - accuracy: 0.9390 - val_loss: 0.2928 - val_accuracy: 0.9150\n",
            "Epoch 77/100\n",
            "16/16 [==============================] - 0s 6ms/step - loss: 0.1997 - accuracy: 0.9370 - val_loss: 0.2905 - val_accuracy: 0.9150\n",
            "Epoch 78/100\n",
            "16/16 [==============================] - 0s 7ms/step - loss: 0.1987 - accuracy: 0.9380 - val_loss: 0.2908 - val_accuracy: 0.9150\n",
            "Epoch 79/100\n",
            "16/16 [==============================] - 0s 6ms/step - loss: 0.1971 - accuracy: 0.9400 - val_loss: 0.2979 - val_accuracy: 0.9150\n",
            "Epoch 80/100\n",
            "16/16 [==============================] - 0s 6ms/step - loss: 0.1974 - accuracy: 0.9390 - val_loss: 0.2934 - val_accuracy: 0.9150\n",
            "Epoch 81/100\n",
            "16/16 [==============================] - 0s 5ms/step - loss: 0.1956 - accuracy: 0.9390 - val_loss: 0.2940 - val_accuracy: 0.9050\n",
            "Epoch 82/100\n",
            "16/16 [==============================] - 0s 7ms/step - loss: 0.1946 - accuracy: 0.9380 - val_loss: 0.2978 - val_accuracy: 0.9150\n",
            "Epoch 83/100\n",
            "16/16 [==============================] - 0s 6ms/step - loss: 0.1928 - accuracy: 0.9420 - val_loss: 0.2946 - val_accuracy: 0.9050\n",
            "Epoch 84/100\n",
            "16/16 [==============================] - 0s 6ms/step - loss: 0.1897 - accuracy: 0.9400 - val_loss: 0.2985 - val_accuracy: 0.9100\n",
            "Epoch 85/100\n",
            "16/16 [==============================] - 0s 6ms/step - loss: 0.1891 - accuracy: 0.9390 - val_loss: 0.3006 - val_accuracy: 0.9100\n",
            "Epoch 86/100\n",
            "16/16 [==============================] - 0s 6ms/step - loss: 0.1880 - accuracy: 0.9410 - val_loss: 0.3005 - val_accuracy: 0.9050\n",
            "Epoch 87/100\n",
            "16/16 [==============================] - 0s 6ms/step - loss: 0.1860 - accuracy: 0.9420 - val_loss: 0.3009 - val_accuracy: 0.9100\n",
            "Epoch 88/100\n",
            "16/16 [==============================] - 0s 6ms/step - loss: 0.1867 - accuracy: 0.9400 - val_loss: 0.2996 - val_accuracy: 0.9100\n",
            "Epoch 89/100\n",
            "16/16 [==============================] - 0s 7ms/step - loss: 0.1848 - accuracy: 0.9390 - val_loss: 0.3046 - val_accuracy: 0.9100\n",
            "Epoch 90/100\n",
            "16/16 [==============================] - 0s 5ms/step - loss: 0.1852 - accuracy: 0.9430 - val_loss: 0.3074 - val_accuracy: 0.9000\n",
            "Epoch 91/100\n",
            "16/16 [==============================] - 0s 6ms/step - loss: 0.1808 - accuracy: 0.9440 - val_loss: 0.3008 - val_accuracy: 0.9100\n",
            "Epoch 92/100\n",
            "16/16 [==============================] - 0s 7ms/step - loss: 0.1797 - accuracy: 0.9420 - val_loss: 0.3075 - val_accuracy: 0.9100\n",
            "Epoch 93/100\n",
            "16/16 [==============================] - 0s 6ms/step - loss: 0.1778 - accuracy: 0.9440 - val_loss: 0.3054 - val_accuracy: 0.9050\n",
            "Epoch 94/100\n",
            "16/16 [==============================] - 0s 6ms/step - loss: 0.1779 - accuracy: 0.9450 - val_loss: 0.3097 - val_accuracy: 0.9000\n",
            "Epoch 95/100\n",
            "16/16 [==============================] - 0s 7ms/step - loss: 0.1773 - accuracy: 0.9440 - val_loss: 0.3106 - val_accuracy: 0.9000\n",
            "Epoch 96/100\n",
            "16/16 [==============================] - 0s 6ms/step - loss: 0.1756 - accuracy: 0.9440 - val_loss: 0.3090 - val_accuracy: 0.8950\n",
            "Epoch 97/100\n",
            "16/16 [==============================] - 0s 6ms/step - loss: 0.1752 - accuracy: 0.9470 - val_loss: 0.3140 - val_accuracy: 0.9000\n",
            "Epoch 98/100\n",
            "16/16 [==============================] - 0s 7ms/step - loss: 0.1742 - accuracy: 0.9440 - val_loss: 0.3116 - val_accuracy: 0.9000\n",
            "Epoch 99/100\n",
            "16/16 [==============================] - 0s 7ms/step - loss: 0.1728 - accuracy: 0.9440 - val_loss: 0.3113 - val_accuracy: 0.8950\n",
            "Epoch 100/100\n",
            "16/16 [==============================] - 0s 6ms/step - loss: 0.1719 - accuracy: 0.9450 - val_loss: 0.3156 - val_accuracy: 0.8950\n"
          ]
        }
      ],
      "source": [
        "MLP_model = model.fit(x_train, y_train,\n",
        "          epochs=100,\n",
        "          batch_size=64, validation_data=(x_test, y_test))"
      ]
    },
    {
      "cell_type": "code",
      "execution_count": 12,
      "metadata": {
        "id": "SveCNiLkisTF",
        "colab": {
          "base_uri": "https://localhost:8080/",
          "height": 448
        },
        "outputId": "3126ac6f-dd41-411d-b212-bf349361f92e"
      },
      "outputs": [
        {
          "output_type": "execute_result",
          "data": {
            "text/plain": [
              "[<matplotlib.lines.Line2D at 0x7a77fa5cbbb0>]"
            ]
          },
          "metadata": {},
          "execution_count": 12
        },
        {
          "output_type": "display_data",
          "data": {
            "text/plain": [
              "<Figure size 640x480 with 1 Axes>"
            ],
            "image/png": "[encoded data removed]"
          },
          "metadata": {}
        }
      ],
      "source": [
        "# plot Loss\n",
        "plt.plot(MLP_model.history[\"loss\"])\n",
        "plt.plot(MLP_model.history[\"val_loss\"])"
      ]
    },
    {
      "cell_type": "code",
      "execution_count": 13,
      "metadata": {
        "id": "Cx3VubunisVh",
        "colab": {
          "base_uri": "https://localhost:8080/",
          "height": 448
        },
        "outputId": "ab6af802-d06b-4ad6-c278-8e2af420e967"
      },
      "outputs": [
        {
          "output_type": "execute_result",
          "data": {
            "text/plain": [
              "[<matplotlib.lines.Line2D at 0x7a77f948b040>]"
            ]
          },
          "metadata": {},
          "execution_count": 13
        },
        {
          "output_type": "display_data",
          "data": {
            "text/plain": [
              "<Figure size 640x480 with 1 Axes>"
            ],
            "image/png": "[encoded data removed]"
          },
          "metadata": {}
        }
      ],
      "source": [
        "# plot accuracy\n",
        "plt.plot(MLP_model.history[\"accuracy\"])\n",
        "plt.plot(MLP_model.history[\"val_accuracy\"])"
      ]
    },
    {
      "cell_type": "code",
      "source": [],
      "metadata": {
        "id": "dX1hpn4OneN9"
      },
      "execution_count": 13,
      "outputs": []
    }
  ],
  "metadata": {
    "colab": {
      "provenance": [],
      "gpuType": "T4"
    },
    "kernelspec": {
      "display_name": "Python 3",
      "name": "python3"
    },
    "language_info": {
      "name": "python"
    },
    "accelerator": "GPU"
  },
  "nbformat": 4,
  "nbformat_minor": 0
}