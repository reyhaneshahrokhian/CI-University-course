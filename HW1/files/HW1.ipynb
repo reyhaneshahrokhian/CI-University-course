{
 "cells": [
  {
   "cell_type": "code",
   "execution_count": null,
   "metadata": {},
   "outputs": [],
   "source": [
    "import numpy as np"
   ]
  },
  {
   "cell_type": "markdown",
   "metadata": {},
   "source": [
    "# Q1"
   ]
  },
  {
   "cell_type": "code",
   "execution_count": null,
   "metadata": {},
   "outputs": [],
   "source": [
    "def element_wise_comparison(array1, array2):\n",
    "    \"\"\"\n",
    "    Perform element-wise comparisons between two NumPy arrays.\n",
    "\n",
    "    Parameters:\n",
    "    - array1 (numpy.ndarray): First input NumPy array.\n",
    "    - array2 (numpy.ndarray): Second input NumPy array.\n",
    "\n",
    "    Returns:\n",
    "    - tuple: A tuple of NumPy arrays containing the following element-wise comparison results:\n",
    "        - greater_result (numpy.ndarray): Element-wise greater than comparison.\n",
    "        - greater_equal_result (numpy.ndarray): Element-wise greater than or equal to comparison.\n",
    "        - less_result (numpy.ndarray): Element-wise less than comparison.\n",
    "        - less_equal_result (numpy.ndarray): Element-wise less than or equal to comparison.\n",
    "    \"\"\"\n",
    "    \n",
    "    # ------------\n",
    "    # FILL THIS IN\n",
    "    # ------------\n",
    "\n",
    "    return greater_result, greater_equal_result, less_result, less_equal_result"
   ]
  },
  {
   "cell_type": "code",
   "execution_count": null,
   "metadata": {},
   "outputs": [],
   "source": [
    "array1 = np.array([[1, 2], [3, 4]])\n",
    "array2 = np.array([[1, 2], [2, 3]])\n",
    "\n",
    "greater, greater_equal, less, less_equal = element_wise_comparisons(array1, array2)\n",
    "\n",
    "print(\"Greater than:\")\n",
    "print(greater)\n",
    "print(\"\\nGreater than or equal to:\")\n",
    "print(greater_equal)\n",
    "print(\"\\nLess than:\")\n",
    "print(less)\n",
    "print(\"\\nLess than or equal to:\")\n",
    "print(less_equal)"
   ]
  },
  {
   "cell_type": "markdown",
   "metadata": {},
   "source": [
    "# Q2"
   ]
  },
  {
   "cell_type": "code",
   "execution_count": null,
   "metadata": {},
   "outputs": [],
   "source": [
    "def array_multiply(array1, array2, method=\"element-wise\"):\n",
    "    \"\"\"\n",
    "    Perform multiplication between two NumPy arrays using the specified method.\n",
    "\n",
    "    Parameters:\n",
    "    - array1 (numpy.ndarray): First input NumPy array.\n",
    "    - array2 (numpy.ndarray): Second input NumPy array.\n",
    "    - method (str, optional): The multiplication method to use. Defaults to \"element-wise\".\n",
    "\n",
    "    Returns:\n",
    "    - numpy.ndarray: The result of the multiplication operation based on the chosen method.\n",
    "    \"\"\"\n",
    "    # ------------\n",
    "    # FILL THIS IN\n",
    "    # ------------\n",
    "\n",
    "    return result"
   ]
  },
  {
   "cell_type": "code",
   "execution_count": null,
   "metadata": {},
   "outputs": [],
   "source": [
    "array1 = np.array([[1, 2], [3, 4]])\n",
    "array2 = np.array([[2, 0], [1, 2]])\n",
    "\n",
    "# Perform element-wise multiplication\n",
    "element_wise_result = array_multiply(array1, array2, method=\"element-wise\")\n",
    "print(\"Element-wise multiplication:\")\n",
    "print(element_wise_result)\n",
    "\n",
    "# Perform matrix multiplication\n",
    "matrix_multiply_result = array_multiply(array1, array2, method=\"matrix-multiply\")\n",
    "print(\"\\nMatrix multiplication:\")\n",
    "print(matrix_multiply_result)"
   ]
  },
  {
   "cell_type": "markdown",
   "metadata": {},
   "source": [
    "# Q3"
   ]
  },
  {
   "cell_type": "code",
   "execution_count": null,
   "metadata": {},
   "outputs": [],
   "source": [
    "def broadcast_add(p, q, method=\"row-wise\"):\n",
    "    \"\"\"\n",
    "    Perform addition between two NumPy arrays using broadcasting and the specified method.\n",
    "\n",
    "    Parameters:\n",
    "    - p (numpy.ndarray): First input NumPy array.\n",
    "    - q (numpy.ndarray): Second input NumPy array.\n",
    "    - method (str, optional): The addition method to use. Defaults to \"row-wise\".\n",
    "        - \"row-wise\": Perform row-wise addition, broadcasting q to match the number of rows in p.\n",
    "        - \"column-wise\": Perform column-wise addition, adding q to each column of p.\n",
    "\n",
    "    Returns:\n",
    "    - numpy.ndarray: The result of the addition operation based on the chosen method.\n",
    "    \n",
    "    Raises:\n",
    "    - ValueError: If an invalid method is provided or if the shapes are incompatible for the chosen method.\n",
    "    \"\"\"\n",
    "    # ------------\n",
    "    # FILL THIS IN\n",
    "    # ------------\n",
    "    \n",
    "    return result"
   ]
  },
  {
   "cell_type": "code",
   "execution_count": null,
   "metadata": {},
   "outputs": [],
   "source": [
    "# Example usage with different-shaped arrays\n",
    "p = np.array([[1, 2, 3], [4, 5, 6], [7, 8, 9]])\n",
    "q = np.array([10, 20, 30])\n",
    "\n",
    "# Add q row-wise to p\n",
    "row_wise_result = broadcast_add(p, q, method=\"row-wise\")\n",
    "print(\"Row-wise addition:\")\n",
    "print(row_wise_result)\n",
    "\n",
    "# Add q column-wise to p\n",
    "column_wise_result = broadcast_add(p, q, method=\"column-wise\")\n",
    "print(\"\\nColumn-wise addition:\")\n",
    "print(column_wise_result)"
   ]
  },
  {
   "cell_type": "markdown",
   "metadata": {},
   "source": [
    "# Q4"
   ]
  },
  {
   "cell_type": "code",
   "execution_count": null,
   "metadata": {},
   "outputs": [],
   "source": [
    "# Initialize the random matrix\n",
    "# x = \n",
    "\n",
    "print(\"Original Array:\")\n",
    "print(x)\n",
    "\n",
    "# Do the normalization\n",
    "\n",
    "\n",
    "print(\"After normalization:\")\n",
    "print(x)"
   ]
  },
  {
   "cell_type": "markdown",
   "metadata": {},
   "source": [
    "# Q5"
   ]
  },
  {
   "cell_type": "code",
   "execution_count": null,
   "metadata": {},
   "outputs": [],
   "source": [
    "import matplotlib.pyplot as plt\n",
    "import pandas as pd\n",
    "\n",
    "# You should write your code here and print or plot the required data asked in homework documentation"
   ]
  },
  {
   "cell_type": "markdown",
   "metadata": {},
   "source": [
    "# Q6"
   ]
  },
  {
   "cell_type": "code",
   "execution_count": null,
   "metadata": {},
   "outputs": [],
   "source": [
    "def for_loop_feed_forward(X, w):\n",
    "    \"\"\"\n",
    "    Perform a feed-forward operation using a for loop.\n",
    "\n",
    "    Parameters:\n",
    "    - X (numpy.ndarray): Input data matrix of shape (num_samples, num_features).\n",
    "    - w (numpy.ndarray): Weight matrix of shape (num_features, 1).\n",
    "\n",
    "    Returns:\n",
    "    - numpy.ndarray: Output matrix of shape (num_samples, 1).\n",
    "    \"\"\"\n",
    "    # ------------\n",
    "    # FILL THIS IN\n",
    "    # ------------\n",
    "\n",
    "    return outputs\n",
    "\n",
    "def vectorized_feed_forward(X, w):\n",
    "    \"\"\"\n",
    "    Perform a feed-forward operation using vectorization.\n",
    "\n",
    "    Parameters:\n",
    "    - X (numpy.ndarray): Input data matrix of shape (num_samples, num_features).\n",
    "    - w (numpy.ndarray): Weight matrix of shape (num_features, 1).\n",
    "\n",
    "    Returns:\n",
    "    - numpy.ndarray: Output matrix of shape (num_samples, 1).\n",
    "    \"\"\"\n",
    "    # ------------\n",
    "    # FILL THIS IN\n",
    "    # ------------\n",
    "\n",
    "    return outputs"
   ]
  },
  {
   "cell_type": "code",
   "execution_count": null,
   "metadata": {},
   "outputs": [],
   "source": [
    "import time\n",
    "\n",
    "# generate random samples\n",
    "\n",
    "# X = \n",
    "# w = \n",
    "\n",
    "start_time = time.time()\n",
    "outputs = for_loop_feed_forward(X, w)\n",
    "\n",
    "print(\"Time spent on calculating the outputs using for loops: \")\n",
    "print(time.time() - start_time)\n",
    "\n",
    "start_time = time.time()\n",
    "outputs = vectorized_feed_forward(X, w)\n",
    "\n",
    "print(\"Time spent on calculating the outputs using vectorization: \")\n",
    "print(time.time() - start_time)"
   ]
  },
  {
   "cell_type": "markdown",
   "metadata": {},
   "source": [
    "# Q7"
   ]
  },
  {
   "cell_type": "code",
   "execution_count": null,
   "metadata": {},
   "outputs": [],
   "source": [
    "def replace_elements_above_threshold(array, threshold):\n",
    "    \"\"\"\n",
    "    Replace elements in a NumPy array that are higher than the given threshold with a specified value.\n",
    "\n",
    "    Parameters:\n",
    "    - array (numpy.ndarray): Input NumPy array.\n",
    "    - threshold (float): Threshold value to compare elements with.\n",
    "\n",
    "    Returns:\n",
    "    - numpy.ndarray: NumPy array with elements replaced above the threshold.\n",
    "    \"\"\"\n",
    "    # ------------\n",
    "    # FILL THIS IN\n",
    "    # ------------\n",
    "\n",
    "    return modified_arr"
   ]
  },
  {
   "cell_type": "code",
   "execution_count": null,
   "metadata": {},
   "outputs": [],
   "source": [
    "input_array = np.array([[1, 2, 3], [4, 5, 6], [7, 8, 9]])\n",
    "threshold_value = 5\n",
    "result_array = replace_elements_above_threshold(input_array, threshold_value)\n",
    "print(result_array)"
   ]
  },
  {
   "cell_type": "markdown",
   "metadata": {},
   "source": [
    "# Q8"
   ]
  },
  {
   "cell_type": "code",
   "execution_count": null,
   "metadata": {},
   "outputs": [],
   "source": [
    "class Matrix:\n",
    "    def __init__(self, matrix):\n",
    "        \"\"\"\n",
    "        Initialize a Matrix object with a given list of lists.\n",
    "\n",
    "        Parameters:\n",
    "        - matrix (list of lists): Input list of lists representing the matrix.\n",
    "        \"\"\"\n",
    "        # ------------\n",
    "        # FILL THIS IN\n",
    "        # ------------\n",
    "\n",
    "    def is_equal(self, second_matrix):\n",
    "        \"\"\"\n",
    "        Check if this Matrix object is equal to another Matrix object.\n",
    "\n",
    "        Parameters:\n",
    "        - second_matrix (Matrix): Another Matrix object for comparison.\n",
    "\n",
    "        Returns:\n",
    "        - bool: True if the matrices are equal, False otherwise.\n",
    "        \"\"\"\n",
    "        # ------------\n",
    "        # FILL THIS IN\n",
    "        # ------------\n",
    "\n",
    "    def is_higher_elementwise(self, second_matrix):\n",
    "        \"\"\"\n",
    "        Check if this Matrix object has higher values element-wise compared to another Matrix object.\n",
    "\n",
    "        Parameters:\n",
    "        - second_matrix (Matrix): Another Matrix object for comparison.\n",
    "\n",
    "        Returns:\n",
    "        - Matrix: Matrix same shape of the input.\n",
    "        \"\"\"\n",
    "        # ------------\n",
    "        # FILL THIS IN\n",
    "        # ------------\n",
    "    \n",
    "    def is_subset(self, second_matrix):\n",
    "        \"\"\"\n",
    "        Check if this Matrix object is a subset of another Matrix object.\n",
    "\n",
    "        Parameters:\n",
    "        - second_matrix (Matrix): Another Matrix object for comparison.\n",
    "\n",
    "        Returns:\n",
    "        - bool: True if this matrix is a subset of 'second_matrix', False otherwise.\n",
    "        \"\"\"\n",
    "        # ------------\n",
    "        # FILL THIS IN\n",
    "        # ------------\n",
    "\n",
    "    def dot_product(self, second_matrix):\n",
    "        \"\"\"\n",
    "        Calculate the dot product between this Matrix object and another Matrix object.\n",
    "\n",
    "        Parameters:\n",
    "        - second_matrix (Matrix): Another Matrix object for the dot product.\n",
    "\n",
    "        Returns:\n",
    "        - Matrix: The result of the dot product as a numpy.ndarray.\n",
    "        \"\"\"\n",
    "        # ------------\n",
    "        # FILL THIS IN\n",
    "        # ------------"
   ]
  },
  {
   "cell_type": "code",
   "execution_count": null,
   "metadata": {},
   "outputs": [],
   "source": [
    "matrix1 = Matrix([[1, 2, 3], [4, 5, 6], [7, 8, 9]])\n",
    "\n",
    "matrix2 = Matrix([[0, 0, 0], [4, 5, 6], [7, 8, 9]])\n",
    "\n",
    "# test equality of matrices here and show the result #\n"
   ]
  },
  {
   "cell_type": "code",
   "execution_count": null,
   "metadata": {},
   "outputs": [],
   "source": [
    "matrix3 = Matrix([[0, 0, 0], [10, 20, 30], [-1, 8, 10]])\n",
    "\n",
    "# test proportion of matrices here and show the result #\n",
    "\n"
   ]
  },
  {
   "cell_type": "code",
   "execution_count": null,
   "metadata": {},
   "outputs": [],
   "source": [
    "matrix4 = Matrix([[5, 6], [8, 9]])\n",
    "matrix5 = Matrix([[1, 2], [4, 5]])\n",
    "matrix6 = Matrix([[1, 2], [3, 4]])\n",
    "\n",
    "\n",
    "# test subset of matrices here and show the result #\n"
   ]
  },
  {
   "cell_type": "code",
   "execution_count": null,
   "metadata": {},
   "outputs": [],
   "source": [
    "matrix7 = Matrix([[3, 1], [2, 4], [-1, 5]])\n",
    "matrix8 = Matrix([[3, 1], [2, 4]])\n",
    "\n",
    "# test product of matrices here and show the result #\n",
    "\n"
   ]
  }
 ],
 "metadata": {
  "language_info": {
   "name": "python"
  },
  "orig_nbformat": 4
 },
 "nbformat": 4,
 "nbformat_minor": 2
}
